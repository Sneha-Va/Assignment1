{
 "cells": [
  {
   "cell_type": "code",
   "execution_count": null,
   "metadata": {},
   "outputs": [],
   "source": []
  },
  {
   "cell_type": "markdown",
   "metadata": {},
   "source": [
    "Assignment\n",
    "\n",
    "problem 1\n",
    "\n",
    " write a python program to print the folllowing string in a specific formats.\n",
    "\n",
    "    Twinkle, twinkle, little star, \n",
    "\t        How I wonder what you are! \n",
    "\t\t        Up above the world so high, \n",
    "\t\t        Like a diamond in the sky. \n",
    "Twinkle, twinkle, little star, \n",
    "\t   How I wonder what you are\n",
    "                   "
   ]
  },
  {
   "cell_type": "code",
   "execution_count": 2,
   "metadata": {},
   "outputs": [
    {
     "name": "stdout",
     "output_type": "stream",
     "text": [
      "Twinkle, twinkle, little star, \n",
      "\tHow I wonder what you are! \n",
      "\t\tUp above the world so high, \n",
      "\t\tLike a diamond in the sky. \n",
      "Twinkle, twinkle, little star, \n",
      "\tHow I wonder what you are\n"
     ]
    }
   ],
   "source": [
    "print(\"Twinkle, twinkle, little star, \\n\\tHow I wonder what you are! \\n\\t\\tUp above the world so high, \\n\\t\\tLike a diamond in the sky. \\nTwinkle, twinkle, little star, \\n\\tHow I wonder what you are\")  "
   ]
  },
  {
   "cell_type": "markdown",
   "metadata": {},
   "source": [
    "problem 2\n",
    "\n",
    " Write a python program which accepts the radius of a circle  from the user and compute the area."
   ]
  },
  {
   "cell_type": "code",
   "execution_count": 1,
   "metadata": {},
   "outputs": [
    {
     "name": "stdout",
     "output_type": "stream",
     "text": [
      "area is 50.24\n"
     ]
    }
   ],
   "source": [
    "radius = float(input(\"enter the radius\"))\n",
    "area = 3.14 * (radius*radius)\n",
    "print(\"area is\",area)"
   ]
  },
  {
   "cell_type": "markdown",
   "metadata": {},
   "source": [
    "problem 3\n",
    "\n",
    " one extra-large pizza 18in costs as much as two medium 12in pizza if i wanted to get the most pizza possible 18in pizza or the two 12in pizza"
   ]
  },
  {
   "cell_type": "code",
   "execution_count": 2,
   "metadata": {},
   "outputs": [
    {
     "name": "stdout",
     "output_type": "stream",
     "text": [
      "1017.36\n",
      "452.16\n"
     ]
    }
   ],
   "source": [
    "lpizza=3.14*(18*18)\n",
    "mpizza=3.14*(12*12)\n",
    "print(lpizza)\n",
    "print(mpizza)\n",
    "two_mpizza=mpizza * 2"
   ]
  }
 ],
 "metadata": {
  "kernelspec": {
   "display_name": "Python 3.8.5 64-bit",
   "language": "python",
   "name": "python3"
  },
  "language_info": {
   "codemirror_mode": {
    "name": "ipython",
    "version": 3
   },
   "file_extension": ".py",
   "mimetype": "text/x-python",
   "name": "python",
   "nbconvert_exporter": "python",
   "pygments_lexer": "ipython3",
   "version": "3.8.5"
  },
  "orig_nbformat": 4,
  "vscode": {
   "interpreter": {
    "hash": "a524115f8dc18b3955c5ee1981641bcbd83c72f857ce00c888e45909f55c8117"
   }
  }
 },
 "nbformat": 4,
 "nbformat_minor": 2
}
